{
 "cells": [
  {
   "cell_type": "markdown",
   "id": "7ac7e366",
   "metadata": {},
   "source": [
    "## Hackerrank Python Basic Test cases"
   ]
  },
  {
   "cell_type": "code",
   "execution_count": null,
   "id": "a013bd2a",
   "metadata": {},
   "outputs": [],
   "source": [
    "#Task1\n",
    "#Given an integer, , perform the following conditional actions:\n",
    "#If  is odd, print Weird\n",
    "#If  is even and in the inclusive range of  to , print Not Weird\n",
    "#If  is even and in the inclusive range of  to , print Weird\n",
    "#If  is even and greater than , print Not Weird"
   ]
  },
  {
   "cell_type": "code",
   "execution_count": 1,
   "id": "b089d85d",
   "metadata": {},
   "outputs": [
    {
     "name": "stdout",
     "output_type": "stream",
     "text": [
      "Enter a number:18\n",
      "Weird\n"
     ]
    }
   ],
   "source": [
    "n=eval(input('Enter a number:'))\n",
    "if n%2!=0:\n",
    "    print('Weird')\n",
    "else:\n",
    "    if n<5:\n",
    "        print('Not Weird')\n",
    "    elif n>20:\n",
    "        print('Not Weird')\n",
    "    else:\n",
    "        print('Weird')"
   ]
  },
  {
   "cell_type": "markdown",
   "id": "bd9a9e2f",
   "metadata": {},
   "source": [
    "The provided code stub reads two integers from STDIN,  and . Add code to print three lines where:\n",
    "The first line contains the sum of the two numbers.\n",
    "The second line contains the difference of the two numbers (first - second).\n",
    "The third line contains the product of the two numbers.\n",
    "Example\n",
    "a=3\n",
    "b=5\n",
    "Print the following:\n",
    "8\n",
    "-2\n",
    "15"
   ]
  },
  {
   "cell_type": "code",
   "execution_count": 4,
   "id": "f2b0ad8e",
   "metadata": {},
   "outputs": [
    {
     "name": "stdout",
     "output_type": "stream",
     "text": [
      "8\n",
      "-2\n",
      "15\n"
     ]
    }
   ],
   "source": [
    "a=3\n",
    "b=5\n",
    "add=a+b\n",
    "sub=a-b\n",
    "mul=a*b\n",
    "print(add)\n",
    "print(sub)\n",
    "print(mul)"
   ]
  },
  {
   "cell_type": "markdown",
   "id": "9d06f9b4",
   "metadata": {},
   "source": [
    "Task 3 \n",
    "The provided code stub reads two integers a and b.\n",
    "\n",
    "Add logic to print two lines. The first line should contain the result of integer division a//b . \n",
    "The second line should contain the result of float division a /b \n",
    "No rounding or formatting is necessary"
   ]
  },
  {
   "cell_type": "code",
   "execution_count": 5,
   "id": "bc20314b",
   "metadata": {},
   "outputs": [
    {
     "name": "stdout",
     "output_type": "stream",
     "text": [
      "Enter the Value of A:3\n",
      "Enter the value of B:5\n",
      "0\n",
      "0.6\n"
     ]
    }
   ],
   "source": [
    "a=int(input('Enter the Value of A:'))\n",
    "b=int(input('Enter the value of B:'))\n",
    "print(a//b)\n",
    "print(a/b)"
   ]
  },
  {
   "cell_type": "markdown",
   "id": "91417d53",
   "metadata": {},
   "source": [
    "# LOOPS concept"
   ]
  },
  {
   "cell_type": "markdown",
   "id": "7beecec0",
   "metadata": {},
   "source": [
    "Task4 Ask the user to enter a non negative number i.e. greater than 0\n",
    "write a program to find the squre of te each number\n",
    "example\n",
    "if user enters number as 3\n",
    "then 0,1,2 then print square of each number\n",
    "0=0*0\n",
    "1=1*1\n",
    "4=2*2\n"
   ]
  },
  {
   "cell_type": "code",
   "execution_count": 17,
   "id": "aa9875d4",
   "metadata": {},
   "outputs": [
    {
     "name": "stdout",
     "output_type": "stream",
     "text": [
      "Enter a number:5\n",
      "The squre of 0 is: 0\n",
      "The squre of 1 is: 1\n",
      "The squre of 2 is: 4\n",
      "The squre of 3 is: 9\n",
      "The squre of 4 is: 16\n"
     ]
    }
   ],
   "source": [
    "n=int(input('Enter a number:'))\n",
    "for i in range(0,n):\n",
    "    print('The squre of {} is: {}'.format(i,i*i))"
   ]
  },
  {
   "cell_type": "markdown",
   "id": "1d36d954",
   "metadata": {},
   "source": [
    "\n",
    "# is_leap Function"
   ]
  },
  {
   "cell_type": "markdown",
   "id": "ce58995c",
   "metadata": {},
   "source": [
    "Given a year, determine whether it is a leap year. If it is a leap year, return the Boolean True, otherwise return False.\n",
    "Note that the code stub provided reads from STDIN and passes arguments to the is_leap function. \n",
    "It is only necessary to complete the is_leap function.\n",
    "The year can be evenly divided by 4, is a leap year, unless:\n",
    "    The year can be evenly divided by 100, it is NOT a leap year, unless:\n",
    "        The year is also evenly divisible by 400. Then it is a leap year.\n",
    "This means that in the Gregorian calendar, the years 2000 and 2400 are leap years, \n",
    "while 1800, 1900, 2100, 2200, 2300 and 2500 are NOT leap years."
   ]
  },
  {
   "cell_type": "code",
   "execution_count": 1,
   "id": "8752a564",
   "metadata": {},
   "outputs": [],
   "source": [
    "def is_leap(year):\n",
    "    leap = False    \n",
    "    # Write your logic here\n",
    "    if (year% 4 == 0) and (year% 400 == 0):\n",
    "        leap = True\n",
    "    elif (year% 4 == 0) and (year% 100 != 0):\n",
    "        leap = True\n",
    "    else:\n",
    "        leap = False\n",
    "    return leap"
   ]
  },
  {
   "cell_type": "code",
   "execution_count": 2,
   "id": "50e13522",
   "metadata": {},
   "outputs": [
    {
     "name": "stdout",
     "output_type": "stream",
     "text": [
      "2024\n",
      "True\n"
     ]
    }
   ],
   "source": [
    "year = int(input())\n",
    "year=is_leap(year)\n",
    "print(year)"
   ]
  },
  {
   "cell_type": "code",
   "execution_count": null,
   "id": "b464e738",
   "metadata": {},
   "outputs": [],
   "source": [
    "#Without using any string methods, try to print the following:\n",
    "# 123...n note:... represents the consequtive number\n",
    "# if the user enters 3 then the output should be 123\n",
    "# if the user enters 5 then the output should be 12345"
   ]
  },
  {
   "cell_type": "code",
   "execution_count": 39,
   "id": "0e286e2c",
   "metadata": {},
   "outputs": [
    {
     "name": "stdout",
     "output_type": "stream",
     "text": [
      "Enter a number:3\n",
      "123"
     ]
    }
   ],
   "source": [
    "n=int(eval(input('Enter a number:')))\n",
    "for i in range(1,n+1):# this will start the range from 1st iteration insted of 0 so adding a n+1 to get the desired output\n",
    "    print(i,sep=' ',end='')"
   ]
  },
  {
   "cell_type": "markdown",
   "id": "f9367062",
   "metadata": {},
   "source": [
    "## list comprehension"
   ]
  },
  {
   "cell_type": "code",
   "execution_count": 1,
   "id": "55482cea",
   "metadata": {},
   "outputs": [
    {
     "name": "stdout",
     "output_type": "stream",
     "text": [
      "[[0, 0, 0], [0, 0, 1], [0, 1, 0], [0, 1, 2], [0, 2, 1], [0, 2, 2], [1, 0, 0], [1, 0, 2], [1, 1, 1], [1, 1, 2], [1, 2, 0], [1, 2, 1], [1, 2, 2], [2, 0, 1], [2, 0, 2], [2, 1, 0], [2, 1, 1], [2, 1, 2], [2, 2, 0], [2, 2, 1], [2, 2, 2]]"
     ]
    }
   ],
   "source": [
    "x=2\n",
    "y=2\n",
    "z=2\n",
    "n=2\n",
    "l1=[[i,j,k] for i in range(x+1) for j in range(y+1) for k in range(z+1) if i+j+k !=n ]\n",
    "print(l1,end='')"
   ]
  },
  {
   "cell_type": "markdown",
   "id": "f4096090",
   "metadata": {},
   "source": [
    "# Runnerup Score"
   ]
  },
  {
   "cell_type": "code",
   "execution_count": 1,
   "id": "ac40265f",
   "metadata": {},
   "outputs": [
    {
     "name": "stdout",
     "output_type": "stream",
     "text": [
      "5\n",
      "2 3 4 6 6 5\n",
      "5\n"
     ]
    }
   ],
   "source": [
    "#runner up score = maximum score-1 i.e. second maximum score so if we enter 2,3,3,4,6,5 then 5 is the runner up score\n",
    "if __name__ == '__main__':\n",
    "    n = int(input())\n",
    "    arr = map(int, input().split()) # enter the values with space separater\n",
    "    l=[]\n",
    "    for i in arr:\n",
    "        if i not in l:\n",
    "            l.append(i)\n",
    "    print(sorted(l,reverse=True)[1])\n",
    "    "
   ]
  },
  {
   "cell_type": "markdown",
   "id": "6842e4f6",
   "metadata": {},
   "source": [
    "Given the names and grades for each student in a class of  students, store them in a nested list and print the name(s) of any student(s) having the second lowest grade.\n",
    "\n",
    "Note: If there are multiple students with the second lowest grade, order their names alphabetically and print each name on a new line.\n",
    "\n",
    "Example\n",
    "python students = [['Harry', 37.21], ['Berry', 37.21], ['Tina', 37.2], ['Akriti', 41], ['Harsh', 39]]\n",
    "\n",
    "The ordered list of scores is , so the second lowest score is . There are two students with that score: . Ordered alphabetically, the names are printed as:\n",
    "The lowest grade of 37.2 belongs to Tina. The second lowest grade of 37.21 belongs to both Harry and Berry, so we order their names alphabetically and print each name on a new line.\n",
    "Berry\n",
    "Harry"
   ]
  },
  {
   "cell_type": "code",
   "execution_count": 39,
   "id": "8fc304da",
   "metadata": {},
   "outputs": [
    {
     "name": "stdout",
     "output_type": "stream",
     "text": [
      "5\n",
      "Harry\n",
      "37.21\n",
      "Berry\n",
      "37.21\n",
      "Tina\n",
      "37.2\n",
      "Harsh\n",
      "49\n",
      "Done\n",
      "39\n",
      "Berry\n",
      "Harry\n"
     ]
    }
   ],
   "source": [
    "if __name__ == '__main__':\n",
    "    record = []    \n",
    "    scores = []\n",
    "    result = []\n",
    "\n",
    "    for _ in range(int(input())):\n",
    "        name = input()\n",
    "        score = float(input())\n",
    "\n",
    "        record.append([name, score])\n",
    "        scores.append(score)\n",
    "\n",
    "    second_lowest = sorted(set(scores))[1]\n",
    "\n",
    "    for name, score in record:\n",
    "        if score == second_lowest:\n",
    "            result.append(name)\n",
    "\n",
    "    print(*sorted(result), sep='\\n')"
   ]
  },
  {
   "cell_type": "code",
   "execution_count": null,
   "id": "2eeae62c",
   "metadata": {},
   "outputs": [],
   "source": [
    "The provided code stub will read in a dictionary containing key/value pairs of name:[marks] for a list of students. Print the average of the marks array for the student name provided, showing 2 places after the decimal.\n",
    "\n",
    "Example\n",
    "3\n",
    "Krishna 67 68 69\n",
    "Arjun 70 98 63\n",
    "Malika 52 56 60\n",
    "Malika\n",
    "output \n",
    "56.00\n",
    "Explanation\n",
    "Marks for Malika are 52 56 60 whose average 52+56+60/3 is 56 "
   ]
  },
  {
   "cell_type": "code",
   "execution_count": 34,
   "id": "a7470cbf",
   "metadata": {},
   "outputs": [
    {
     "name": "stdout",
     "output_type": "stream",
     "text": [
      "3\n",
      "a 78 89 87\n",
      "b 56 55 58\n",
      "h 52 56 60\n",
      "h\n",
      "56.00\n"
     ]
    }
   ],
   "source": [
    "if __name__ == '__main__':\n",
    "    n = int(input())\n",
    "    student_marks = {}\n",
    "    for _ in range(n):\n",
    "        name, *line = input().split()\n",
    "        scores = list(map(float, line))\n",
    "        student_marks[name] = scores\n",
    "    query_name = input()\n",
    "l1=list(student_marks.get(query_name))\n",
    "print('{:.2f}'.format(sum(l1)/len(l1)))"
   ]
  },
  {
   "cell_type": "code",
   "execution_count": 33,
   "id": "6761228b",
   "metadata": {},
   "outputs": [
    {
     "name": "stdout",
     "output_type": "stream",
     "text": [
      "26.50\n"
     ]
    }
   ],
   "source": [
    "print('{:.2f}'.format(sum(l1)/len(l1)))"
   ]
  },
  {
   "cell_type": "markdown",
   "metadata": {},
   "source": [
    "new task here"
   ]
  }
 ],
 "metadata": {
  "kernelspec": {
   "display_name": "Python 3 (ipykernel)",
   "language": "python",
   "name": "python3"
  },
  "language_info": {
   "codemirror_mode": {
    "name": "ipython",
    "version": 3
   },
   "file_extension": ".py",
   "mimetype": "text/x-python",
   "name": "python",
   "nbconvert_exporter": "python",
   "pygments_lexer": "ipython3",
   "version": "3.11.5"
  }
 },
 "nbformat": 4,
 "nbformat_minor": 5
}
